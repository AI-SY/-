{
  "nbformat": 4,
  "nbformat_minor": 0,
  "metadata": {
    "colab": {
      "name": "Untitled0.ipynb",
      "provenance": [],
      "collapsed_sections": [],
      "toc_visible": true,
      "authorship_tag": "ABX9TyOD7k+BA9M8F+7D0SyJXwF0",
      "include_colab_link": true
    },
    "kernelspec": {
      "name": "python3",
      "display_name": "Python 3"
    }
  },
  "cells": [
    {
      "cell_type": "markdown",
      "metadata": {
        "id": "view-in-github",
        "colab_type": "text"
      },
      "source": [
        "<a href=\"https://colab.research.google.com/github/AI-SY/-/blob/master/Untitled0.ipynb\" target=\"_parent\"><img src=\"https://colab.research.google.com/assets/colab-badge.svg\" alt=\"Open In Colab\"/></a>"
      ]
    },
    {
      "cell_type": "code",
      "metadata": {
        "id": "nmBwJ3cAMKxk",
        "colab_type": "code",
        "colab": {}
      },
      "source": [
        ""
      ],
      "execution_count": 0,
      "outputs": []
    },
    {
      "cell_type": "markdown",
      "metadata": {
        "id": "PdpXiOR8MMYS",
        "colab_type": "text"
      },
      "source": [
        "#인공지능\n",
        "##언어\n",
        "* 악성 댓글 차단\n",
        "  * 구글과 직소(Jigsaw, 구글의 모회사 알파벳 산하의 창업 초기 기업)의 퍼스펙티브(Perspective) (http://www.itworld.co.kr/news/103633) , (https://m.etnews.com/20170702000077)\n",
        "  * 네이버 클린봇\n",
        "  (http://www.jeonpa.co.kr/news/articleView.html?idxno=81990)\n",
        "\n",
        "##음성\n",
        "* 음성 인식 서비스 AI\n",
        "  * 빅스비 - 삼성전자가 2017년 3월 30일에 공개한 음성인식 기반 개인 비서 애플리케이션\n",
        "  * siri -  Apple의 소프트웨어 탑재 기기들 전반에서 작동하는 인공지능 개인 비서 응용 프로그램\n",
        "\n",
        "##이미지\n",
        "* 프로젝트 옥스포드\n",
        "  * 이미지에서 사람의 얼굴을 찾아내고 그 특징을 잡아내어 서로 다른 이미지에서 동일 인물을 찾아내는 것과 같은 기능을 제공하는 Face API, 코타나(Cortana)\n",
        "  * 이미지를 인식하고 썸네일(Thumbnail)을 생성하는 것과 같은 이미지 프로세싱용 Vision API\n",
        "(https://www.venturesquare.net/585302)\n",
        "\n",
        "##자율주행\n",
        "* 인공지능 플랫폼 드라이브 IX(NVIDIA DRIVE™ IX)\n",
        "  (http://www.autoelectronics.co.kr/article/articleView.asp?idx=2693)\n",
        "* x연구소\n",
        "  * 프로젝트 웨이모\n",
        "\n",
        "      독자적인 자동차 개발 및 생산보다는 기존 모델에 자율주행시스템을 적용하는 데 초점을 맞춘 프로젝트\n",
        "  (https://namu.wiki/w/X(%EC%97%B0%EA%B5%AC%EC%86%8C)#s-s-2.1)\n",
        "  * 프로젝트 플라이\n",
        "  \n",
        "   비행 차량을 이용하여 도시를 가로질러 고객에게 제품을 전달하는 것을    목표로하는 프로젝트\n",
        "   (https://www.youtube.com/watch?time_continue=2&v=cRTNvWcx9Oo&feature=emb_logo)\n"
      ]
    }
  ]
}